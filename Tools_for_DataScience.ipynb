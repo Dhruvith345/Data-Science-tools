{
 "cells": [
  {
   "cell_type": "code",
   "execution_count": null,
   "id": "f18be719-a12b-4a80-b0d7-23d8cd956e26",
   "metadata": {},
   "outputs": [],
   "source": [
    "# Data Science Tools Final Project"
   ]
  },
  {
   "cell_type": "code",
   "execution_count": null,
   "id": "9c37ea7a-6943-4fb5-b7b4-db1f093eff82",
   "metadata": {},
   "outputs": [],
   "source": [
    "## Introduction\n",
    "#Hi I am Dhruvith and I am hereby conveying the skills I gained in this course\n",
    "#This notebook is a comprehensive overview of the tools and languages used in data science, \n",
    "#along with some basic arithmetic operations to demonstrate the application of programming in data science."
   ]
  },
  {
   "cell_type": "code",
   "execution_count": null,
   "id": "8b12ddbd-f365-4994-b058-453f5242f1e2",
   "metadata": {},
   "outputs": [],
   "source": [
    "## Data Science Languages\n",
    "- Python\n",
    "- R\n",
    "- SQL\n",
    "- Java\n",
    "- Scala"
   ]
  },
  {
   "cell_type": "code",
   "execution_count": null,
   "id": "59180b12-790b-4bbd-8caa-ff9dc18c23b7",
   "metadata": {},
   "outputs": [],
   "source": [
    "## Data Science Libraries\n",
    "- Pandas\n",
    "- NumPy\n",
    "- Matplotlib\n",
    "- Scikit-learn\n",
    "- TensorFlow\n",
    "- Keras"
   ]
  },
  {
   "cell_type": "code",
   "execution_count": null,
   "id": "ec5d7be4-765a-4517-ad6d-0c04fb1fc53c",
   "metadata": {},
   "outputs": [],
   "source": [
    "## Data Science Tools\n",
    "Tool        \n",
    "Jupyter      \n",
    "RStudio      \n",
    "GitHub       \n",
    "Apache Spark \n",
    "Tableau      "
   ]
  },
  {
   "cell_type": "code",
   "execution_count": null,
   "id": "f1b43353-1d65-47f6-99d5-a90db9d57809",
   "metadata": {},
   "outputs": [],
   "source": [
    "## Arithmetic Expressions\n",
    "This section demonstrates some basic arithmetic operations that can be performed using Python:\n",
    "they are:\n",
    "Addition:+\n",
    "Subtraction:-\n",
    "Division:/\n",
    "Multiplication:*\n",
    "Floor Division://\n",
    "Remainder:%"
   ]
  },
  {
   "cell_type": "code",
   "execution_count": 1,
   "id": "7daacbd4-60cb-4a75-95f8-58ee0a584ddd",
   "metadata": {},
   "outputs": [
    {
     "data": {
      "text/plain": [
       "(50, 15)"
      ]
     },
     "execution_count": 1,
     "metadata": {},
     "output_type": "execute_result"
    }
   ],
   "source": [
    "# Multiply and add numbers\n",
    "a = 10\n",
    "b = 5\n",
    "multiplication = a * b\n",
    "addition = a + b\n",
    "multiplication, addition"
   ]
  },
  {
   "cell_type": "code",
   "execution_count": 3,
   "id": "f141eff3-d3b2-4499-a4d3-52703b398113",
   "metadata": {},
   "outputs": [
    {
     "data": {
      "text/plain": [
       "2.0"
      ]
     },
     "execution_count": 3,
     "metadata": {},
     "output_type": "execute_result"
    }
   ],
   "source": [
    "# Convert minutes to hours\n",
    "def convert_minutes_to_hours(minutes):\n",
    "    hours = minutes / 60\n",
    "    return hours\n",
    "\n",
    "# Example: Convert 120 minutes to hours\n",
    "convert_minutes_to_hours(120)"
   ]
  },
  {
   "cell_type": "code",
   "execution_count": null,
   "id": "5a1cf9e9-fb2c-4169-91e6-6e293f715021",
   "metadata": {},
   "outputs": [],
   "source": [
    "## Objectives\n",
    "- Understand the various programming languages used in data science.\n",
    "- Familiarize with essential data science libraries.\n",
    "- Learn about different data science tools.\n",
    "- Perform basic arithmetic operations in Python."
   ]
  },
  {
   "cell_type": "code",
   "execution_count": null,
   "id": "b8ddab71-1e91-4ad2-acb4-c7f536f29bfe",
   "metadata": {},
   "outputs": [],
   "source": [
    "## Author\n",
    "Dhruvith N"
   ]
  },
  {
   "cell_type": "code",
   "execution_count": null,
   "id": "afcb6e37-6a6f-480e-ab2a-547bb13c69aa",
   "metadata": {},
   "outputs": [],
   "source": []
  },
  {
   "cell_type": "code",
   "execution_count": null,
   "id": "cd09f98c-f6bf-4d77-9122-2f7ecda965ef",
   "metadata": {},
   "outputs": [],
   "source": []
  },
  {
   "cell_type": "code",
   "execution_count": null,
   "id": "d3e51525-a059-486e-82ab-a01a3ec34817",
   "metadata": {},
   "outputs": [],
   "source": []
  },
  {
   "cell_type": "code",
   "execution_count": null,
   "id": "8eb918a5-d2a1-4b64-920a-8a068a6be678",
   "metadata": {},
   "outputs": [],
   "source": []
  },
  {
   "cell_type": "code",
   "execution_count": null,
   "id": "bcf8a6bd-d29e-486a-9f98-ec827f660ea4",
   "metadata": {},
   "outputs": [],
   "source": []
  },
  {
   "cell_type": "code",
   "execution_count": null,
   "id": "d3210049-1dc0-4b21-ae85-a8761cef8325",
   "metadata": {},
   "outputs": [],
   "source": []
  }
 ],
 "metadata": {
  "kernelspec": {
   "display_name": "Python 3 (ipykernel)",
   "language": "python",
   "name": "python3"
  },
  "language_info": {
   "codemirror_mode": {
    "name": "ipython",
    "version": 3
   },
   "file_extension": ".py",
   "mimetype": "text/x-python",
   "name": "python",
   "nbconvert_exporter": "python",
   "pygments_lexer": "ipython3",
   "version": "3.12.4"
  }
 },
 "nbformat": 4,
 "nbformat_minor": 5
}
